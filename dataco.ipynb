{
 "cells": [
  {
   "cell_type": "markdown",
   "metadata": {},
   "source": [
    "# Libraries and Initialization"
   ]
  },
  {
   "cell_type": "code",
   "execution_count": 511,
   "metadata": {},
   "outputs": [],
   "source": [
    "import numpy as np\n",
    "import pandas as pd\n",
    "import matplotlib.pyplot as plt\n",
    "import matplotlib.pylab as pylab\n",
    "import matplotlib.patches as mpatches\n",
    "from sklearn.preprocessing import OneHotEncoder\n",
    "from sklearn.ensemble import RandomForestClassifier, RandomForestRegressor\n",
    "from sklearn.model_selection import train_test_split, cross_validate\n",
    "import xgboost as xgb\n",
    "\n",
    "# Matplotlib Deafault Parameters\n",
    "pylab.rcParams['figure.figsize'] = (12, 7)\n",
    "pylab.rcParams['axes.titlesize'] = 18.0\n",
    "pylab.rcParams['xtick.labelsize'] = 16.0\n",
    "pylab.rcParams['ytick.labelsize'] = 16.0\n",
    "pylab.rcParams['legend.fontsize'] = 14.0\n",
    "pylab.rcParams['axes.labelsize'] = 17.0"
   ]
  },
  {
   "cell_type": "markdown",
   "metadata": {},
   "source": [
    "# Loading the Data "
   ]
  },
  {
   "cell_type": "code",
   "execution_count": 10,
   "metadata": {},
   "outputs": [],
   "source": [
    "df = pd.read_csv(\"data/DataCoSupplyChainDataset.csv\", encoding=\"iso-8859-1\")"
   ]
  },
  {
   "cell_type": "code",
   "execution_count": 12,
   "metadata": {},
   "outputs": [
    {
     "data": {
      "text/html": [
       "<div>\n",
       "<style scoped>\n",
       "    .dataframe tbody tr th:only-of-type {\n",
       "        vertical-align: middle;\n",
       "    }\n",
       "\n",
       "    .dataframe tbody tr th {\n",
       "        vertical-align: top;\n",
       "    }\n",
       "\n",
       "    .dataframe thead th {\n",
       "        text-align: right;\n",
       "    }\n",
       "</style>\n",
       "<table border=\"1\" class=\"dataframe\">\n",
       "  <thead>\n",
       "    <tr style=\"text-align: right;\">\n",
       "      <th></th>\n",
       "      <th>Type</th>\n",
       "      <th>Days for shipping (real)</th>\n",
       "      <th>Days for shipment (scheduled)</th>\n",
       "      <th>Benefit per order</th>\n",
       "      <th>Sales per customer</th>\n",
       "      <th>Delivery Status</th>\n",
       "      <th>Late_delivery_risk</th>\n",
       "      <th>Category Id</th>\n",
       "      <th>Category Name</th>\n",
       "      <th>Customer City</th>\n",
       "      <th>...</th>\n",
       "      <th>Order Zipcode</th>\n",
       "      <th>Product Card Id</th>\n",
       "      <th>Product Category Id</th>\n",
       "      <th>Product Description</th>\n",
       "      <th>Product Image</th>\n",
       "      <th>Product Name</th>\n",
       "      <th>Product Price</th>\n",
       "      <th>Product Status</th>\n",
       "      <th>shipping date (DateOrders)</th>\n",
       "      <th>Shipping Mode</th>\n",
       "    </tr>\n",
       "  </thead>\n",
       "  <tbody>\n",
       "    <tr>\n",
       "      <th>0</th>\n",
       "      <td>DEBIT</td>\n",
       "      <td>3</td>\n",
       "      <td>4</td>\n",
       "      <td>91.250000</td>\n",
       "      <td>314.640015</td>\n",
       "      <td>Advance shipping</td>\n",
       "      <td>0</td>\n",
       "      <td>73</td>\n",
       "      <td>Sporting Goods</td>\n",
       "      <td>Caguas</td>\n",
       "      <td>...</td>\n",
       "      <td>NaN</td>\n",
       "      <td>1360</td>\n",
       "      <td>73</td>\n",
       "      <td>NaN</td>\n",
       "      <td>http://images.acmesports.sports/Smart+watch</td>\n",
       "      <td>Smart watch</td>\n",
       "      <td>327.75</td>\n",
       "      <td>0</td>\n",
       "      <td>2/3/2018 22:56</td>\n",
       "      <td>Standard Class</td>\n",
       "    </tr>\n",
       "    <tr>\n",
       "      <th>1</th>\n",
       "      <td>TRANSFER</td>\n",
       "      <td>5</td>\n",
       "      <td>4</td>\n",
       "      <td>-249.089996</td>\n",
       "      <td>311.359985</td>\n",
       "      <td>Late delivery</td>\n",
       "      <td>1</td>\n",
       "      <td>73</td>\n",
       "      <td>Sporting Goods</td>\n",
       "      <td>Caguas</td>\n",
       "      <td>...</td>\n",
       "      <td>NaN</td>\n",
       "      <td>1360</td>\n",
       "      <td>73</td>\n",
       "      <td>NaN</td>\n",
       "      <td>http://images.acmesports.sports/Smart+watch</td>\n",
       "      <td>Smart watch</td>\n",
       "      <td>327.75</td>\n",
       "      <td>0</td>\n",
       "      <td>1/18/2018 12:27</td>\n",
       "      <td>Standard Class</td>\n",
       "    </tr>\n",
       "    <tr>\n",
       "      <th>2</th>\n",
       "      <td>CASH</td>\n",
       "      <td>4</td>\n",
       "      <td>4</td>\n",
       "      <td>-247.779999</td>\n",
       "      <td>309.720001</td>\n",
       "      <td>Shipping on time</td>\n",
       "      <td>0</td>\n",
       "      <td>73</td>\n",
       "      <td>Sporting Goods</td>\n",
       "      <td>San Jose</td>\n",
       "      <td>...</td>\n",
       "      <td>NaN</td>\n",
       "      <td>1360</td>\n",
       "      <td>73</td>\n",
       "      <td>NaN</td>\n",
       "      <td>http://images.acmesports.sports/Smart+watch</td>\n",
       "      <td>Smart watch</td>\n",
       "      <td>327.75</td>\n",
       "      <td>0</td>\n",
       "      <td>1/17/2018 12:06</td>\n",
       "      <td>Standard Class</td>\n",
       "    </tr>\n",
       "    <tr>\n",
       "      <th>3</th>\n",
       "      <td>DEBIT</td>\n",
       "      <td>3</td>\n",
       "      <td>4</td>\n",
       "      <td>22.860001</td>\n",
       "      <td>304.809998</td>\n",
       "      <td>Advance shipping</td>\n",
       "      <td>0</td>\n",
       "      <td>73</td>\n",
       "      <td>Sporting Goods</td>\n",
       "      <td>Los Angeles</td>\n",
       "      <td>...</td>\n",
       "      <td>NaN</td>\n",
       "      <td>1360</td>\n",
       "      <td>73</td>\n",
       "      <td>NaN</td>\n",
       "      <td>http://images.acmesports.sports/Smart+watch</td>\n",
       "      <td>Smart watch</td>\n",
       "      <td>327.75</td>\n",
       "      <td>0</td>\n",
       "      <td>1/16/2018 11:45</td>\n",
       "      <td>Standard Class</td>\n",
       "    </tr>\n",
       "    <tr>\n",
       "      <th>4</th>\n",
       "      <td>PAYMENT</td>\n",
       "      <td>2</td>\n",
       "      <td>4</td>\n",
       "      <td>134.210007</td>\n",
       "      <td>298.250000</td>\n",
       "      <td>Advance shipping</td>\n",
       "      <td>0</td>\n",
       "      <td>73</td>\n",
       "      <td>Sporting Goods</td>\n",
       "      <td>Caguas</td>\n",
       "      <td>...</td>\n",
       "      <td>NaN</td>\n",
       "      <td>1360</td>\n",
       "      <td>73</td>\n",
       "      <td>NaN</td>\n",
       "      <td>http://images.acmesports.sports/Smart+watch</td>\n",
       "      <td>Smart watch</td>\n",
       "      <td>327.75</td>\n",
       "      <td>0</td>\n",
       "      <td>1/15/2018 11:24</td>\n",
       "      <td>Standard Class</td>\n",
       "    </tr>\n",
       "  </tbody>\n",
       "</table>\n",
       "<p>5 rows × 53 columns</p>\n",
       "</div>"
      ],
      "text/plain": [
       "       Type  Days for shipping (real)  Days for shipment (scheduled)  \\\n",
       "0     DEBIT                         3                              4   \n",
       "1  TRANSFER                         5                              4   \n",
       "2      CASH                         4                              4   \n",
       "3     DEBIT                         3                              4   \n",
       "4   PAYMENT                         2                              4   \n",
       "\n",
       "   Benefit per order  Sales per customer   Delivery Status  \\\n",
       "0          91.250000          314.640015  Advance shipping   \n",
       "1        -249.089996          311.359985     Late delivery   \n",
       "2        -247.779999          309.720001  Shipping on time   \n",
       "3          22.860001          304.809998  Advance shipping   \n",
       "4         134.210007          298.250000  Advance shipping   \n",
       "\n",
       "   Late_delivery_risk  Category Id   Category Name Customer City  ...  \\\n",
       "0                   0           73  Sporting Goods        Caguas  ...   \n",
       "1                   1           73  Sporting Goods        Caguas  ...   \n",
       "2                   0           73  Sporting Goods      San Jose  ...   \n",
       "3                   0           73  Sporting Goods   Los Angeles  ...   \n",
       "4                   0           73  Sporting Goods        Caguas  ...   \n",
       "\n",
       "  Order Zipcode Product Card Id Product Category Id  Product Description  \\\n",
       "0           NaN            1360                  73                  NaN   \n",
       "1           NaN            1360                  73                  NaN   \n",
       "2           NaN            1360                  73                  NaN   \n",
       "3           NaN            1360                  73                  NaN   \n",
       "4           NaN            1360                  73                  NaN   \n",
       "\n",
       "                                  Product Image  Product Name Product Price  \\\n",
       "0  http://images.acmesports.sports/Smart+watch   Smart watch         327.75   \n",
       "1  http://images.acmesports.sports/Smart+watch   Smart watch         327.75   \n",
       "2  http://images.acmesports.sports/Smart+watch   Smart watch         327.75   \n",
       "3  http://images.acmesports.sports/Smart+watch   Smart watch         327.75   \n",
       "4  http://images.acmesports.sports/Smart+watch   Smart watch         327.75   \n",
       "\n",
       "  Product Status shipping date (DateOrders)   Shipping Mode  \n",
       "0              0             2/3/2018 22:56  Standard Class  \n",
       "1              0            1/18/2018 12:27  Standard Class  \n",
       "2              0            1/17/2018 12:06  Standard Class  \n",
       "3              0            1/16/2018 11:45  Standard Class  \n",
       "4              0            1/15/2018 11:24  Standard Class  \n",
       "\n",
       "[5 rows x 53 columns]"
      ]
     },
     "execution_count": 12,
     "metadata": {},
     "output_type": "execute_result"
    }
   ],
   "source": [
    "df.head()"
   ]
  },
  {
   "cell_type": "code",
   "execution_count": 14,
   "metadata": {},
   "outputs": [
    {
     "data": {
      "text/plain": [
       "(180519, 53)"
      ]
     },
     "execution_count": 14,
     "metadata": {},
     "output_type": "execute_result"
    }
   ],
   "source": [
    "df.shape"
   ]
  },
  {
   "cell_type": "markdown",
   "metadata": {},
   "source": [
    "# Finding the dataset key "
   ]
  },
  {
   "cell_type": "markdown",
   "metadata": {},
   "source": [
    "Is the Order ID unique?"
   ]
  },
  {
   "cell_type": "code",
   "execution_count": 23,
   "metadata": {},
   "outputs": [
    {
     "data": {
      "text/plain": [
       "65752"
      ]
     },
     "execution_count": 23,
     "metadata": {},
     "output_type": "execute_result"
    }
   ],
   "source": [
    "df[\"Order Id\"].nunique()"
   ]
  },
  {
   "cell_type": "markdown",
   "metadata": {},
   "source": [
    "The Order ID is not unique."
   ]
  },
  {
   "cell_type": "code",
   "execution_count": 25,
   "metadata": {},
   "outputs": [
    {
     "data": {
      "text/plain": [
       "30397    5\n",
       "16203    5\n",
       "42806    5\n",
       "49302    5\n",
       "60278    5\n",
       "Name: Order Id, dtype: int64"
      ]
     },
     "execution_count": 25,
     "metadata": {},
     "output_type": "execute_result"
    }
   ],
   "source": [
    "df[\"Order Id\"].value_counts().head(5)"
   ]
  },
  {
   "cell_type": "markdown",
   "metadata": {},
   "source": [
    "But the key `Order Id` and `Order Item Id` is."
   ]
  },
  {
   "cell_type": "code",
   "execution_count": 34,
   "metadata": {},
   "outputs": [
    {
     "data": {
      "text/plain": [
       "2047      1\n",
       "79372     1\n",
       "144748    1\n",
       "134507    1\n",
       "132458    1\n",
       "Name: Order Item Id, dtype: int64"
      ]
     },
     "execution_count": 34,
     "metadata": {},
     "output_type": "execute_result"
    }
   ],
   "source": [
    "df[\"Order Item Id\"].value_counts().head(5)"
   ]
  },
  {
   "cell_type": "code",
   "execution_count": 45,
   "metadata": {},
   "outputs": [
    {
     "data": {
      "text/html": [
       "<div>\n",
       "<style scoped>\n",
       "    .dataframe tbody tr th:only-of-type {\n",
       "        vertical-align: middle;\n",
       "    }\n",
       "\n",
       "    .dataframe tbody tr th {\n",
       "        vertical-align: top;\n",
       "    }\n",
       "\n",
       "    .dataframe thead th {\n",
       "        text-align: right;\n",
       "    }\n",
       "</style>\n",
       "<table border=\"1\" class=\"dataframe\">\n",
       "  <thead>\n",
       "    <tr style=\"text-align: right;\">\n",
       "      <th></th>\n",
       "      <th>Product Card Id</th>\n",
       "      <th>Product Name</th>\n",
       "      <th>Customer Fname</th>\n",
       "      <th>Customer Lname</th>\n",
       "      <th>Order Item Id</th>\n",
       "      <th>Days for shipping (real)</th>\n",
       "      <th>Customer Country</th>\n",
       "    </tr>\n",
       "  </thead>\n",
       "  <tbody>\n",
       "    <tr>\n",
       "      <th>110283</th>\n",
       "      <td>957</td>\n",
       "      <td>Diamondback Women's Serene Classic Comfort Bi</td>\n",
       "      <td>Mary</td>\n",
       "      <td>Smith</td>\n",
       "      <td>75980</td>\n",
       "      <td>2</td>\n",
       "      <td>EE. UU.</td>\n",
       "    </tr>\n",
       "    <tr>\n",
       "      <th>116649</th>\n",
       "      <td>116</td>\n",
       "      <td>Nike Men's Comfort 2 Slide</td>\n",
       "      <td>Mary</td>\n",
       "      <td>Smith</td>\n",
       "      <td>75981</td>\n",
       "      <td>2</td>\n",
       "      <td>EE. UU.</td>\n",
       "    </tr>\n",
       "    <tr>\n",
       "      <th>116650</th>\n",
       "      <td>191</td>\n",
       "      <td>Nike Men's Free 5.0+ Running Shoe</td>\n",
       "      <td>Mary</td>\n",
       "      <td>Smith</td>\n",
       "      <td>75983</td>\n",
       "      <td>2</td>\n",
       "      <td>EE. UU.</td>\n",
       "    </tr>\n",
       "    <tr>\n",
       "      <th>153559</th>\n",
       "      <td>1004</td>\n",
       "      <td>Field &amp; Stream Sportsman 16 Gun Fire Safe</td>\n",
       "      <td>Mary</td>\n",
       "      <td>Smith</td>\n",
       "      <td>75984</td>\n",
       "      <td>2</td>\n",
       "      <td>EE. UU.</td>\n",
       "    </tr>\n",
       "    <tr>\n",
       "      <th>153560</th>\n",
       "      <td>1004</td>\n",
       "      <td>Field &amp; Stream Sportsman 16 Gun Fire Safe</td>\n",
       "      <td>Mary</td>\n",
       "      <td>Smith</td>\n",
       "      <td>75982</td>\n",
       "      <td>2</td>\n",
       "      <td>EE. UU.</td>\n",
       "    </tr>\n",
       "  </tbody>\n",
       "</table>\n",
       "</div>"
      ],
      "text/plain": [
       "        Product Card Id                                   Product Name  \\\n",
       "110283              957  Diamondback Women's Serene Classic Comfort Bi   \n",
       "116649              116                     Nike Men's Comfort 2 Slide   \n",
       "116650              191              Nike Men's Free 5.0+ Running Shoe   \n",
       "153559             1004      Field & Stream Sportsman 16 Gun Fire Safe   \n",
       "153560             1004      Field & Stream Sportsman 16 Gun Fire Safe   \n",
       "\n",
       "       Customer Fname Customer Lname  Order Item Id  Days for shipping (real)  \\\n",
       "110283           Mary          Smith          75980                         2   \n",
       "116649           Mary          Smith          75981                         2   \n",
       "116650           Mary          Smith          75983                         2   \n",
       "153559           Mary          Smith          75984                         2   \n",
       "153560           Mary          Smith          75982                         2   \n",
       "\n",
       "       Customer Country  \n",
       "110283          EE. UU.  \n",
       "116649          EE. UU.  \n",
       "116650          EE. UU.  \n",
       "153559          EE. UU.  \n",
       "153560          EE. UU.  "
      ]
     },
     "execution_count": 45,
     "metadata": {},
     "output_type": "execute_result"
    }
   ],
   "source": [
    "df[df[\"Order Id\"] == 30397][[\"Product Card Id\", \"Product Name\", \"Customer Fname\", \"Customer Lname\", \"Order Item Id\", \"Days for shipping (real)\", \"Customer Country\"]]"
   ]
  },
  {
   "cell_type": "markdown",
   "metadata": {},
   "source": [
    "Given that there is no information regarding the shipment ID, I am assuming that each order (even with multiples products) generates a shipment."
   ]
  },
  {
   "cell_type": "markdown",
   "metadata": {},
   "source": [
    "# Group the dataframe by order"
   ]
  },
  {
   "cell_type": "code",
   "execution_count": 329,
   "metadata": {},
   "outputs": [
    {
     "name": "stdout",
     "output_type": "stream",
     "text": [
      "0\n",
      "0\n",
      "0\n",
      "0\n"
     ]
    }
   ],
   "source": [
    "print(df[\"Delivery Status\"].isna().sum())\n",
    "print(df[\"Order Country\"].isna().sum())\n",
    "print(df[\"Customer Zipcode\"].isna().sum())\n",
    "print(df[\"Order Id\"].isna().sum())"
   ]
  },
  {
   "cell_type": "code",
   "execution_count": 501,
   "metadata": {},
   "outputs": [],
   "source": [
    "df = df.drop(df[df[\"Customer Zipcode\"].isna()].index)"
   ]
  },
  {
   "cell_type": "code",
   "execution_count": 502,
   "metadata": {},
   "outputs": [
    {
     "data": {
      "text/plain": [
       "(180516, 53)"
      ]
     },
     "execution_count": 502,
     "metadata": {},
     "output_type": "execute_result"
    }
   ],
   "source": [
    "df.shape"
   ]
  },
  {
   "cell_type": "markdown",
   "metadata": {},
   "source": [
    "We discard rows that do not present any value in the `Customer Zipcode` feature."
   ]
  },
  {
   "cell_type": "code",
   "execution_count": 504,
   "metadata": {},
   "outputs": [],
   "source": [
    "# define mode aggregation function\n",
    "def mode(x):\n",
    "    return x.value_counts().index[0]\n",
    "mode.__name__ = \"mode\"\n",
    "\n",
    "categorical_features = [\n",
    "    \"Order Id\", \"Customer Country\", \"Shipping Mode\", \n",
    "    \"Days for shipping (real)\", \"Days for shipment (scheduled)\",\n",
    "    \"order date (DateOrders)\", \"shipping date (DateOrders)\",\n",
    "    \"Delivery Status\", \"Order Country\", \"Customer Zipcode\",\n",
    "    \"Order City\"\n",
    "]\n",
    "numerical_features = [\"Order Item Quantity\", \"Product Price\", \"Sales per customer\"]\n",
    "selected_features = categorical_features.copy()\n",
    "selected_features.extend(numerical_features)\n",
    "\n",
    "agg_functions = {feature: mode for feature in categorical_features}\n",
    "agg_functions.update({feature: \"sum\" for feature in numerical_features})\n",
    "\n",
    "df_orders = df[selected_features]\\\n",
    "    .groupby(\"Order Id\").agg(agg_functions)"
   ]
  },
  {
   "cell_type": "code",
   "execution_count": 505,
   "metadata": {},
   "outputs": [],
   "source": [
    "# convert dates to the suitable data type\n",
    "df_orders[\"shipping date (DateOrders)\"] = df_orders[\"shipping date (DateOrders)\"].astype(\"datetime64[ns]\")\n",
    "df_orders[\"order date (DateOrders)\"] = df_orders[\"order date (DateOrders)\"].astype(\"datetime64[ns]\")"
   ]
  },
  {
   "cell_type": "code",
   "execution_count": 506,
   "metadata": {},
   "outputs": [
    {
     "data": {
      "text/html": [
       "<div>\n",
       "<style scoped>\n",
       "    .dataframe tbody tr th:only-of-type {\n",
       "        vertical-align: middle;\n",
       "    }\n",
       "\n",
       "    .dataframe tbody tr th {\n",
       "        vertical-align: top;\n",
       "    }\n",
       "\n",
       "    .dataframe thead th {\n",
       "        text-align: right;\n",
       "    }\n",
       "</style>\n",
       "<table border=\"1\" class=\"dataframe\">\n",
       "  <thead>\n",
       "    <tr style=\"text-align: right;\">\n",
       "      <th></th>\n",
       "      <th>Order Id</th>\n",
       "      <th>Customer Country</th>\n",
       "      <th>Shipping Mode</th>\n",
       "      <th>Days for shipping (real)</th>\n",
       "      <th>Days for shipment (scheduled)</th>\n",
       "      <th>order date (DateOrders)</th>\n",
       "      <th>shipping date (DateOrders)</th>\n",
       "      <th>Delivery Status</th>\n",
       "      <th>Order Country</th>\n",
       "      <th>Customer Zipcode</th>\n",
       "      <th>Order City</th>\n",
       "      <th>Order Item Quantity</th>\n",
       "      <th>Product Price</th>\n",
       "      <th>Sales per customer</th>\n",
       "    </tr>\n",
       "    <tr>\n",
       "      <th>Order Id</th>\n",
       "      <th></th>\n",
       "      <th></th>\n",
       "      <th></th>\n",
       "      <th></th>\n",
       "      <th></th>\n",
       "      <th></th>\n",
       "      <th></th>\n",
       "      <th></th>\n",
       "      <th></th>\n",
       "      <th></th>\n",
       "      <th></th>\n",
       "      <th></th>\n",
       "      <th></th>\n",
       "      <th></th>\n",
       "    </tr>\n",
       "  </thead>\n",
       "  <tbody>\n",
       "    <tr>\n",
       "      <th>1</th>\n",
       "      <td>1</td>\n",
       "      <td>EE. UU.</td>\n",
       "      <td>Standard Class</td>\n",
       "      <td>2</td>\n",
       "      <td>4</td>\n",
       "      <td>2015-01-01 00:00:00</td>\n",
       "      <td>2015-01-03 00:00:00</td>\n",
       "      <td>Advance shipping</td>\n",
       "      <td>México</td>\n",
       "      <td>28601.0</td>\n",
       "      <td>Mexico City</td>\n",
       "      <td>1</td>\n",
       "      <td>299.980011</td>\n",
       "      <td>239.979996</td>\n",
       "    </tr>\n",
       "    <tr>\n",
       "      <th>2</th>\n",
       "      <td>2</td>\n",
       "      <td>EE. UU.</td>\n",
       "      <td>Standard Class</td>\n",
       "      <td>3</td>\n",
       "      <td>4</td>\n",
       "      <td>2015-01-01 00:21:00</td>\n",
       "      <td>2015-01-04 00:21:00</td>\n",
       "      <td>Advance shipping</td>\n",
       "      <td>Colombia</td>\n",
       "      <td>60625.0</td>\n",
       "      <td>Dos Quebradas</td>\n",
       "      <td>7</td>\n",
       "      <td>379.980011</td>\n",
       "      <td>529.380005</td>\n",
       "    </tr>\n",
       "    <tr>\n",
       "      <th>4</th>\n",
       "      <td>4</td>\n",
       "      <td>EE. UU.</td>\n",
       "      <td>Standard Class</td>\n",
       "      <td>5</td>\n",
       "      <td>4</td>\n",
       "      <td>2015-01-01 01:03:00</td>\n",
       "      <td>2015-01-06 01:03:00</td>\n",
       "      <td>Late delivery</td>\n",
       "      <td>Colombia</td>\n",
       "      <td>78240.0</td>\n",
       "      <td>Dos Quebradas</td>\n",
       "      <td>14</td>\n",
       "      <td>184.960001</td>\n",
       "      <td>620.870014</td>\n",
       "    </tr>\n",
       "    <tr>\n",
       "      <th>5</th>\n",
       "      <td>5</td>\n",
       "      <td>Puerto Rico</td>\n",
       "      <td>Standard Class</td>\n",
       "      <td>6</td>\n",
       "      <td>4</td>\n",
       "      <td>2015-01-01 01:24:00</td>\n",
       "      <td>2015-01-07 01:24:00</td>\n",
       "      <td>Late delivery</td>\n",
       "      <td>Colombia</td>\n",
       "      <td>725.0</td>\n",
       "      <td>Dos Quebradas</td>\n",
       "      <td>10</td>\n",
       "      <td>839.920029</td>\n",
       "      <td>987.070007</td>\n",
       "    </tr>\n",
       "    <tr>\n",
       "      <th>7</th>\n",
       "      <td>7</td>\n",
       "      <td>EE. UU.</td>\n",
       "      <td>Second Class</td>\n",
       "      <td>3</td>\n",
       "      <td>2</td>\n",
       "      <td>2015-01-01 02:06:00</td>\n",
       "      <td>2015-01-04 02:06:00</td>\n",
       "      <td>Late delivery</td>\n",
       "      <td>Brasil</td>\n",
       "      <td>33161.0</td>\n",
       "      <td>São Paulo</td>\n",
       "      <td>7</td>\n",
       "      <td>515.960016</td>\n",
       "      <td>525.520004</td>\n",
       "    </tr>\n",
       "  </tbody>\n",
       "</table>\n",
       "</div>"
      ],
      "text/plain": [
       "          Order Id Customer Country   Shipping Mode  Days for shipping (real)  \\\n",
       "Order Id                                                                        \n",
       "1                1          EE. UU.  Standard Class                         2   \n",
       "2                2          EE. UU.  Standard Class                         3   \n",
       "4                4          EE. UU.  Standard Class                         5   \n",
       "5                5      Puerto Rico  Standard Class                         6   \n",
       "7                7          EE. UU.    Second Class                         3   \n",
       "\n",
       "          Days for shipment (scheduled) order date (DateOrders)  \\\n",
       "Order Id                                                          \n",
       "1                                     4     2015-01-01 00:00:00   \n",
       "2                                     4     2015-01-01 00:21:00   \n",
       "4                                     4     2015-01-01 01:03:00   \n",
       "5                                     4     2015-01-01 01:24:00   \n",
       "7                                     2     2015-01-01 02:06:00   \n",
       "\n",
       "         shipping date (DateOrders)   Delivery Status Order Country  \\\n",
       "Order Id                                                              \n",
       "1               2015-01-03 00:00:00  Advance shipping        México   \n",
       "2               2015-01-04 00:21:00  Advance shipping      Colombia   \n",
       "4               2015-01-06 01:03:00     Late delivery      Colombia   \n",
       "5               2015-01-07 01:24:00     Late delivery      Colombia   \n",
       "7               2015-01-04 02:06:00     Late delivery        Brasil   \n",
       "\n",
       "          Customer Zipcode     Order City  Order Item Quantity  Product Price  \\\n",
       "Order Id                                                                        \n",
       "1                  28601.0    Mexico City                    1     299.980011   \n",
       "2                  60625.0  Dos Quebradas                    7     379.980011   \n",
       "4                  78240.0  Dos Quebradas                   14     184.960001   \n",
       "5                    725.0  Dos Quebradas                   10     839.920029   \n",
       "7                  33161.0      São Paulo                    7     515.960016   \n",
       "\n",
       "          Sales per customer  \n",
       "Order Id                      \n",
       "1                 239.979996  \n",
       "2                 529.380005  \n",
       "4                 620.870014  \n",
       "5                 987.070007  \n",
       "7                 525.520004  "
      ]
     },
     "execution_count": 506,
     "metadata": {},
     "output_type": "execute_result"
    }
   ],
   "source": [
    "df_orders.head()"
   ]
  },
  {
   "cell_type": "markdown",
   "metadata": {},
   "source": [
    "# Number of Orders per Country"
   ]
  },
  {
   "cell_type": "code",
   "execution_count": 335,
   "metadata": {
    "scrolled": true
   },
   "outputs": [
    {
     "data": {
      "text/plain": [
       "Estados Unidos    8270\n",
       "Francia           4865\n",
       "México            4395\n",
       "Australia         3798\n",
       "Alemania          3518\n",
       "Reino Unido       2784\n",
       "Brasil            2650\n",
       "China             2616\n",
       "India             2152\n",
       "Indonesia         1920\n",
       "Name: Order Country, dtype: int64"
      ]
     },
     "execution_count": 335,
     "metadata": {},
     "output_type": "execute_result"
    }
   ],
   "source": [
    "df_orders[\"Order Country\"].value_counts()[:10]"
   ]
  },
  {
   "cell_type": "code",
   "execution_count": 373,
   "metadata": {},
   "outputs": [
    {
     "data": {
      "text/plain": [
       "65749"
      ]
     },
     "execution_count": 373,
     "metadata": {},
     "output_type": "execute_result"
    }
   ],
   "source": [
    "df_orders[\"Order Country\"].value_counts().sum()"
   ]
  },
  {
   "cell_type": "code",
   "execution_count": 374,
   "metadata": {},
   "outputs": [
    {
     "data": {
      "text/plain": [
       "36968"
      ]
     },
     "execution_count": 374,
     "metadata": {},
     "output_type": "execute_result"
    }
   ],
   "source": [
    "series_country.values.sum()"
   ]
  },
  {
   "cell_type": "code",
   "execution_count": 376,
   "metadata": {},
   "outputs": [
    {
     "data": {
      "text/plain": [
       "array([8270, 4865, 4395, 3798, 3518, 2784, 2650, 2616, 2152, 1920])"
      ]
     },
     "execution_count": 376,
     "metadata": {},
     "output_type": "execute_result"
    }
   ],
   "source": [
    "series_country.values"
   ]
  },
  {
   "cell_type": "code",
   "execution_count": 380,
   "metadata": {
    "scrolled": false
   },
   "outputs": [
    {
     "data": {
      "image/png": "[encoded data removed]",
      "text/plain": [
       "<Figure size 720x576 with 1 Axes>"
      ]
     },
     "metadata": {
      "needs_background": "light"
     },
     "output_type": "display_data"
    }
   ],
   "source": [
    "# plotting the top ten countries\n",
    "plt.figure(figsize=(10, 8))\n",
    "series_country = df_orders[\"Order Country\"].value_counts()[:10]\n",
    "nbr_orders = df_orders[\"Order Country\"].value_counts().sum()\n",
    "ind = range(len(series_country))\n",
    "plt.bar(ind, series_country.values)\n",
    "plt.bar(\n",
    "    len(series_country), \n",
    "    df_orders[\"Order Country\"].value_counts().sum() - series_country.values.sum(), \n",
    "    color=\"C7\"\n",
    ")\n",
    "plt.title(\"Total Number of Orders per Country\")\n",
    "xtickslabels = [\n",
    "    \"United States\", \"France\", \"Mexico\", \"Australia\",\n",
    "    \"Germany\", \"United Kingdom\", \"Brazil\", \"China\", \n",
    "    \"India\", \"Indonesia\", \"Remaining\"\n",
    "]\n",
    "plt.xticks(range(len(series_country)+1), xtickslabels, rotation=\"vertical\")\n",
    "plt.xlabel(\"Country\")\n",
    "plt.ylabel(\"Total Number of Orders\")\n",
    "\n",
    "ax = plt.gca()\n",
    "# Add this loop to add the annotations\n",
    "for p in ax.patches:\n",
    "    width, height = p.get_width(), p.get_height()\n",
    "    x, y = p.get_xy() \n",
    "    ax.annotate(\n",
    "        '{:.2%}'.format(height/nbr_orders), \n",
    "        (p.get_x()+.5*width, p.get_y() + height + 125), \n",
    "        ha='center',\n",
    "        fontsize=14\n",
    "    );"
   ]
  },
  {
   "cell_type": "markdown",
   "metadata": {},
   "source": [
    "# Which is the most used shipment method "
   ]
  },
  {
   "cell_type": "code",
   "execution_count": 99,
   "metadata": {},
   "outputs": [
    {
     "data": {
      "image/png": "[encoded data removed]",
      "text/plain": [
       "<Figure size 720x576 with 1 Axes>"
      ]
     },
     "metadata": {
      "needs_background": "light"
     },
     "output_type": "display_data"
    }
   ],
   "source": [
    "plt.figure(figsize=(10, 8))\n",
    "series_shipping = df_orders[\"Shipping Mode\"].value_counts()\n",
    "nbr_orders = series_shipping.sum()\n",
    "ind = range(len(series_shipping))\n",
    "plt.bar(ind, series_shipping.values)\n",
    "plt.title(\"Total Number of Orders per Shipping Mode\")\n",
    "plt.xticks(ind, series_shipping.index)\n",
    "plt.xlabel(\"Shipping Mode\")\n",
    "plt.ylabel(\"Total Number of Orders\")\n",
    "\n",
    "ax = plt.gca()\n",
    "# Add this loop to add the annotations\n",
    "for p in ax.patches:\n",
    "    width, height = p.get_width(), p.get_height()\n",
    "    x, y = p.get_xy() \n",
    "    ax.annotate(\n",
    "        '{:.2%}'.format(height/nbr_orders), \n",
    "        (p.get_x()+.5*width, p.get_y() + height + 125), \n",
    "        ha='center',\n",
    "        fontsize=14\n",
    "    );"
   ]
  },
  {
   "cell_type": "markdown",
   "metadata": {},
   "source": [
    "# Delay between scheduled delivery date and actual delivery date "
   ]
  },
  {
   "cell_type": "markdown",
   "metadata": {},
   "source": [
    "Let's first create the feature."
   ]
  },
  {
   "cell_type": "code",
   "execution_count": 191,
   "metadata": {},
   "outputs": [],
   "source": [
    "df_orders[\"Shipment Delay\"] = df_orders[\"Days for shipping (real)\"] - df_orders[\"Days for shipment (scheduled)\"]"
   ]
  },
  {
   "cell_type": "code",
   "execution_count": 192,
   "metadata": {},
   "outputs": [
    {
     "data": {
      "text/html": [
       "<div>\n",
       "<style scoped>\n",
       "    .dataframe tbody tr th:only-of-type {\n",
       "        vertical-align: middle;\n",
       "    }\n",
       "\n",
       "    .dataframe tbody tr th {\n",
       "        vertical-align: top;\n",
       "    }\n",
       "\n",
       "    .dataframe thead th {\n",
       "        text-align: right;\n",
       "    }\n",
       "</style>\n",
       "<table border=\"1\" class=\"dataframe\">\n",
       "  <thead>\n",
       "    <tr style=\"text-align: right;\">\n",
       "      <th></th>\n",
       "      <th>Customer Country</th>\n",
       "      <th>Shipping Mode</th>\n",
       "      <th>Days for shipping (real)</th>\n",
       "      <th>Days for shipment (scheduled)</th>\n",
       "      <th>order date (DateOrders)</th>\n",
       "      <th>shipping date (DateOrders)</th>\n",
       "      <th>Shipment Delay</th>\n",
       "    </tr>\n",
       "    <tr>\n",
       "      <th>Order Id</th>\n",
       "      <th></th>\n",
       "      <th></th>\n",
       "      <th></th>\n",
       "      <th></th>\n",
       "      <th></th>\n",
       "      <th></th>\n",
       "      <th></th>\n",
       "    </tr>\n",
       "  </thead>\n",
       "  <tbody>\n",
       "    <tr>\n",
       "      <th>1</th>\n",
       "      <td>EE. UU.</td>\n",
       "      <td>Standard Class</td>\n",
       "      <td>2</td>\n",
       "      <td>4</td>\n",
       "      <td>2015-01-01 00:00:00</td>\n",
       "      <td>2015-01-03 00:00:00</td>\n",
       "      <td>-2</td>\n",
       "    </tr>\n",
       "    <tr>\n",
       "      <th>2</th>\n",
       "      <td>EE. UU.</td>\n",
       "      <td>Standard Class</td>\n",
       "      <td>3</td>\n",
       "      <td>4</td>\n",
       "      <td>2015-01-01 00:21:00</td>\n",
       "      <td>2015-01-04 00:21:00</td>\n",
       "      <td>-1</td>\n",
       "    </tr>\n",
       "    <tr>\n",
       "      <th>4</th>\n",
       "      <td>EE. UU.</td>\n",
       "      <td>Standard Class</td>\n",
       "      <td>5</td>\n",
       "      <td>4</td>\n",
       "      <td>2015-01-01 01:03:00</td>\n",
       "      <td>2015-01-06 01:03:00</td>\n",
       "      <td>1</td>\n",
       "    </tr>\n",
       "    <tr>\n",
       "      <th>5</th>\n",
       "      <td>Puerto Rico</td>\n",
       "      <td>Standard Class</td>\n",
       "      <td>6</td>\n",
       "      <td>4</td>\n",
       "      <td>2015-01-01 01:24:00</td>\n",
       "      <td>2015-01-07 01:24:00</td>\n",
       "      <td>2</td>\n",
       "    </tr>\n",
       "    <tr>\n",
       "      <th>7</th>\n",
       "      <td>EE. UU.</td>\n",
       "      <td>Second Class</td>\n",
       "      <td>3</td>\n",
       "      <td>2</td>\n",
       "      <td>2015-01-01 02:06:00</td>\n",
       "      <td>2015-01-04 02:06:00</td>\n",
       "      <td>1</td>\n",
       "    </tr>\n",
       "  </tbody>\n",
       "</table>\n",
       "</div>"
      ],
      "text/plain": [
       "         Customer Country   Shipping Mode  Days for shipping (real)  \\\n",
       "Order Id                                                              \n",
       "1                 EE. UU.  Standard Class                         2   \n",
       "2                 EE. UU.  Standard Class                         3   \n",
       "4                 EE. UU.  Standard Class                         5   \n",
       "5             Puerto Rico  Standard Class                         6   \n",
       "7                 EE. UU.    Second Class                         3   \n",
       "\n",
       "          Days for shipment (scheduled) order date (DateOrders)  \\\n",
       "Order Id                                                          \n",
       "1                                     4     2015-01-01 00:00:00   \n",
       "2                                     4     2015-01-01 00:21:00   \n",
       "4                                     4     2015-01-01 01:03:00   \n",
       "5                                     4     2015-01-01 01:24:00   \n",
       "7                                     2     2015-01-01 02:06:00   \n",
       "\n",
       "         shipping date (DateOrders)  Shipment Delay  \n",
       "Order Id                                             \n",
       "1               2015-01-03 00:00:00              -2  \n",
       "2               2015-01-04 00:21:00              -1  \n",
       "4               2015-01-06 01:03:00               1  \n",
       "5               2015-01-07 01:24:00               2  \n",
       "7               2015-01-04 02:06:00               1  "
      ]
     },
     "execution_count": 192,
     "metadata": {},
     "output_type": "execute_result"
    }
   ],
   "source": [
    "df_orders.head()"
   ]
  },
  {
   "cell_type": "markdown",
   "metadata": {},
   "source": [
    "Plotting the histogram."
   ]
  },
  {
   "cell_type": "code",
   "execution_count": 125,
   "metadata": {},
   "outputs": [
    {
     "data": {
      "text/plain": [
       " 1    22120\n",
       " 0    12267\n",
       " 2    10461\n",
       "-2     7910\n",
       "-1     7877\n",
       " 4     2564\n",
       " 3     2553\n",
       "Name: Shipment Delay, dtype: int64"
      ]
     },
     "execution_count": 125,
     "metadata": {},
     "output_type": "execute_result"
    }
   ],
   "source": [
    "df_orders[\"Shipment Delay\"].value_counts()"
   ]
  },
  {
   "cell_type": "code",
   "execution_count": 219,
   "metadata": {},
   "outputs": [
    {
     "data": {
      "image/png": "[encoded data removed]",
      "text/plain": [
       "<Figure size 864x504 with 1 Axes>"
      ]
     },
     "metadata": {
      "needs_background": "light"
     },
     "output_type": "display_data"
    }
   ],
   "source": [
    "shipment_delays = df_orders[\"Shipment Delay\"].value_counts().sort_index()\n",
    "ind = range(len(shipment_delays))\n",
    "barlist = plt.bar(ind, shipment_delays.values)\n",
    "plt.title(\"Delay Between Planned Shipment and Real Shipment\")\n",
    "plt.ylabel(\"Total Number of Orders\")\n",
    "plt.xlabel(\"Delay (days)\")\n",
    "plt.xticks(ind, shipment_delays.index)\n",
    "for idx, label in enumerate(shipment_delays.index):\n",
    "    if label < 0:\n",
    "        color = \"C2\"\n",
    "    elif label > 0:\n",
    "        color = \"C3\"\n",
    "    else:\n",
    "        color = \"C0\"\n",
    "    barlist[idx].set_color(color)\n",
    "    \n",
    "# manually set the legend\n",
    "red_patch = mpatches.Patch(color=\"C3\", label=\"Delayed shipments\")\n",
    "green_patch = mpatches.Patch(color=\"C2\", label=\"Early shipments\")\n",
    "blue_patch = mpatches.Patch(color=\"C0\", label=\"On time shipments\")\n",
    "plt.legend(handles=[green_patch, blue_patch, red_patch])\n",
    "\n",
    "# percentages\n",
    "ax = plt.gca()\n",
    "# Add this loop to add the annotations\n",
    "for p in ax.patches:\n",
    "    width, height = p.get_width(), p.get_height()\n",
    "    x, y = p.get_xy() \n",
    "    ax.annotate(\n",
    "        '{:.2%}'.format(height/nbr_orders), \n",
    "        (p.get_x()+.5*width, p.get_y() + height + 125), \n",
    "        ha='center',\n",
    "        fontsize=14\n",
    "    );"
   ]
  },
  {
   "cell_type": "markdown",
   "metadata": {},
   "source": [
    "# Days between order date and shipping date "
   ]
  },
  {
   "cell_type": "markdown",
   "metadata": {},
   "source": [
    "## Raw number (disregard business days) "
   ]
  },
  {
   "cell_type": "code",
   "execution_count": 200,
   "metadata": {},
   "outputs": [],
   "source": [
    "days_between = df_orders[\"shipping date (DateOrders)\"] - df_orders[\"order date (DateOrders)\"]\n",
    "days_between_totals = days_between.dt.days.value_counts().sort_index()"
   ]
  },
  {
   "cell_type": "code",
   "execution_count": 208,
   "metadata": {},
   "outputs": [],
   "source": [
    "# dumb workaround to fill 1 index with zero.\n",
    "days_totals = []\n",
    "max_days = days_between_totals.index.max()\n",
    "for i in range(max_days+1):\n",
    "    try:\n",
    "        days_totals.append(days_between_totals.loc[i])\n",
    "    except KeyError:\n",
    "        days_totals.append(0)"
   ]
  },
  {
   "cell_type": "code",
   "execution_count": 209,
   "metadata": {},
   "outputs": [
    {
     "data": {
      "text/plain": [
       "[3571, 0, 20554, 10408, 10423, 10336, 10460]"
      ]
     },
     "execution_count": 209,
     "metadata": {},
     "output_type": "execute_result"
    }
   ],
   "source": [
    "days_totals"
   ]
  },
  {
   "cell_type": "code",
   "execution_count": 215,
   "metadata": {},
   "outputs": [
    {
     "data": {
      "image/png": "[encoded data removed]",
      "text/plain": [
       "<Figure size 864x504 with 1 Axes>"
      ]
     },
     "metadata": {
      "needs_background": "light"
     },
     "output_type": "display_data"
    }
   ],
   "source": [
    "ind = range(len(days_totals))\n",
    "plt.bar(ind, days_totals)\n",
    "plt.title(\"Number of Days Between the Order and the Shipment\")\n",
    "plt.ylabel(\"Total Number of Orders\")\n",
    "plt.xlabel(\"Number of Days\")\n",
    "# percentages\n",
    "ax = plt.gca()\n",
    "# Add this loop to add the annotations\n",
    "for p in ax.patches:\n",
    "    width, height = p.get_width(), p.get_height()\n",
    "    x, y = p.get_xy() \n",
    "    ax.annotate(\n",
    "        '{:.2%}'.format(height/nbr_orders), \n",
    "        (p.get_x()+.5*width, p.get_y() + height + 125), \n",
    "        ha='center',\n",
    "        fontsize=14\n",
    "    );"
   ]
  },
  {
   "cell_type": "code",
   "execution_count": 290,
   "metadata": {},
   "outputs": [
    {
     "data": {
      "image/png": "[encoded data removed]",
      "text/plain": [
       "<Figure size 864x504 with 1 Axes>"
      ]
     },
     "metadata": {
      "needs_background": "light"
     },
     "output_type": "display_data"
    }
   ],
   "source": [
    "plt.boxplot(days_between.dt.days, vert=False)\n",
    "plt.title(\"Number of Days Between the Order and the Shipment\")\n",
    "plt.ylabel(\"Total Number of Orders\")\n",
    "plt.xlabel(\"Number of Days\");"
   ]
  },
  {
   "cell_type": "markdown",
   "metadata": {},
   "source": [
    "## Considering business days"
   ]
  },
  {
   "cell_type": "code",
   "execution_count": 244,
   "metadata": {},
   "outputs": [],
   "source": [
    "enddates = df_orders[\"shipping date (DateOrders)\"].values.astype(\"datetime64[D]\")\n",
    "begindates = df_orders[\"order date (DateOrders)\"].values.astype(\"datetime64[D]\")\n",
    "busdaysbetween = np.busday_count(begindates, enddates)"
   ]
  },
  {
   "cell_type": "code",
   "execution_count": 250,
   "metadata": {},
   "outputs": [],
   "source": [
    "busdays_totals = pd.Series(busdaysbetween).value_counts().sort_index()"
   ]
  },
  {
   "cell_type": "code",
   "execution_count": 252,
   "metadata": {},
   "outputs": [
    {
     "data": {
      "text/plain": [
       "0     5266\n",
       "1    10116\n",
       "2    19176\n",
       "3    13344\n",
       "4    13365\n",
       "5     4485\n",
       "dtype: int64"
      ]
     },
     "execution_count": 252,
     "metadata": {},
     "output_type": "execute_result"
    }
   ],
   "source": [
    "busdays_totals"
   ]
  },
  {
   "cell_type": "code",
   "execution_count": 253,
   "metadata": {},
   "outputs": [
    {
     "data": {
      "image/png": "[encoded data removed]",
      "text/plain": [
       "<Figure size 864x504 with 1 Axes>"
      ]
     },
     "metadata": {
      "needs_background": "light"
     },
     "output_type": "display_data"
    }
   ],
   "source": [
    "ind = range(len(busdays_totals))\n",
    "plt.bar(ind, busdays_totals.values)\n",
    "plt.title(\"Number of Business Days Between the Order and the Shipment\")\n",
    "plt.ylabel(\"Total Number of Orders\")\n",
    "plt.xlabel(\"Number of Business Days\")\n",
    "# percentages\n",
    "ax = plt.gca()\n",
    "# Add this loop to add the annotations\n",
    "for p in ax.patches:\n",
    "    width, height = p.get_width(), p.get_height()\n",
    "    x, y = p.get_xy() \n",
    "    ax.annotate(\n",
    "        '{:.2%}'.format(height/nbr_orders), \n",
    "        (p.get_x()+.5*width, p.get_y() + height + 125), \n",
    "        ha='center',\n",
    "        fontsize=14\n",
    "    );"
   ]
  },
  {
   "cell_type": "code",
   "execution_count": 291,
   "metadata": {},
   "outputs": [
    {
     "data": {
      "image/png": "[encoded data removed]",
      "text/plain": [
       "<Figure size 864x504 with 1 Axes>"
      ]
     },
     "metadata": {
      "needs_background": "light"
     },
     "output_type": "display_data"
    }
   ],
   "source": [
    "plt.boxplot(busdaysbetween, vert=False)\n",
    "plt.title(\"Number of Days Between the Order and the Shipment\")\n",
    "plt.ylabel(\"Total Number of Orders\")\n",
    "plt.xlabel(\"Number of Days\");"
   ]
  },
  {
   "cell_type": "markdown",
   "metadata": {},
   "source": [
    "# Aggregation by category "
   ]
  },
  {
   "cell_type": "code",
   "execution_count": 17,
   "metadata": {},
   "outputs": [
    {
     "data": {
      "text/html": [
       "<div>\n",
       "<style scoped>\n",
       "    .dataframe tbody tr th:only-of-type {\n",
       "        vertical-align: middle;\n",
       "    }\n",
       "\n",
       "    .dataframe tbody tr th {\n",
       "        vertical-align: top;\n",
       "    }\n",
       "\n",
       "    .dataframe thead th {\n",
       "        text-align: right;\n",
       "    }\n",
       "</style>\n",
       "<table border=\"1\" class=\"dataframe\">\n",
       "  <thead>\n",
       "    <tr style=\"text-align: right;\">\n",
       "      <th></th>\n",
       "      <th>Sales</th>\n",
       "    </tr>\n",
       "    <tr>\n",
       "      <th>Category Name</th>\n",
       "      <th></th>\n",
       "    </tr>\n",
       "  </thead>\n",
       "  <tbody>\n",
       "    <tr>\n",
       "      <th>Accessories</th>\n",
       "      <td>1.336715e+05</td>\n",
       "    </tr>\n",
       "    <tr>\n",
       "      <th>As Seen on  TV!</th>\n",
       "      <td>2.059794e+04</td>\n",
       "    </tr>\n",
       "    <tr>\n",
       "      <th>Baby</th>\n",
       "      <td>1.222956e+04</td>\n",
       "    </tr>\n",
       "    <tr>\n",
       "      <th>Baseball &amp; Softball</th>\n",
       "      <td>9.405715e+04</td>\n",
       "    </tr>\n",
       "    <tr>\n",
       "      <th>Basketball</th>\n",
       "      <td>2.709933e+04</td>\n",
       "    </tr>\n",
       "    <tr>\n",
       "      <th>Books</th>\n",
       "      <td>1.258740e+04</td>\n",
       "    </tr>\n",
       "    <tr>\n",
       "      <th>Boxing &amp; MMA</th>\n",
       "      <td>8.520541e+04</td>\n",
       "    </tr>\n",
       "    <tr>\n",
       "      <th>CDs</th>\n",
       "      <td>3.059590e+03</td>\n",
       "    </tr>\n",
       "    <tr>\n",
       "      <th>Cameras</th>\n",
       "      <td>2.676077e+05</td>\n",
       "    </tr>\n",
       "    <tr>\n",
       "      <th>Camping &amp; Hiking</th>\n",
       "      <td>4.118426e+06</td>\n",
       "    </tr>\n",
       "    <tr>\n",
       "      <th>Cardio Equipment</th>\n",
       "      <td>3.694843e+06</td>\n",
       "    </tr>\n",
       "    <tr>\n",
       "      <th>Children's Clothing</th>\n",
       "      <td>2.328292e+05</td>\n",
       "    </tr>\n",
       "    <tr>\n",
       "      <th>Cleats</th>\n",
       "      <td>4.431943e+06</td>\n",
       "    </tr>\n",
       "    <tr>\n",
       "      <th>Computers</th>\n",
       "      <td>6.630000e+05</td>\n",
       "    </tr>\n",
       "    <tr>\n",
       "      <th>Consumer Electronics</th>\n",
       "      <td>1.089913e+05</td>\n",
       "    </tr>\n",
       "    <tr>\n",
       "      <th>Crafts</th>\n",
       "      <td>2.233563e+05</td>\n",
       "    </tr>\n",
       "    <tr>\n",
       "      <th>DVDs</th>\n",
       "      <td>7.939554e+04</td>\n",
       "    </tr>\n",
       "    <tr>\n",
       "      <th>Electronics</th>\n",
       "      <td>3.710346e+05</td>\n",
       "    </tr>\n",
       "    <tr>\n",
       "      <th>Fishing</th>\n",
       "      <td>6.929654e+06</td>\n",
       "    </tr>\n",
       "    <tr>\n",
       "      <th>Fitness Accessories</th>\n",
       "      <td>3.560144e+04</td>\n",
       "    </tr>\n",
       "    <tr>\n",
       "      <th>Garden</th>\n",
       "      <td>2.577687e+05</td>\n",
       "    </tr>\n",
       "    <tr>\n",
       "      <th>Girls' Apparel</th>\n",
       "      <td>1.517062e+05</td>\n",
       "    </tr>\n",
       "    <tr>\n",
       "      <th>Golf Apparel</th>\n",
       "      <td>3.496975e+04</td>\n",
       "    </tr>\n",
       "    <tr>\n",
       "      <th>Golf Bags &amp; Carts</th>\n",
       "      <td>1.036939e+04</td>\n",
       "    </tr>\n",
       "    <tr>\n",
       "      <th>Golf Balls</th>\n",
       "      <td>7.709816e+04</td>\n",
       "    </tr>\n",
       "    <tr>\n",
       "      <th>Golf Gloves</th>\n",
       "      <td>1.166954e+05</td>\n",
       "    </tr>\n",
       "    <tr>\n",
       "      <th>Golf Shoes</th>\n",
       "      <td>1.079980e+05</td>\n",
       "    </tr>\n",
       "    <tr>\n",
       "      <th>Health and Beauty</th>\n",
       "      <td>1.060805e+05</td>\n",
       "    </tr>\n",
       "    <tr>\n",
       "      <th>Hockey</th>\n",
       "      <td>4.836073e+04</td>\n",
       "    </tr>\n",
       "    <tr>\n",
       "      <th>Hunting &amp; Shooting</th>\n",
       "      <td>5.684842e+04</td>\n",
       "    </tr>\n",
       "    <tr>\n",
       "      <th>Indoor/Outdoor Games</th>\n",
       "      <td>2.888994e+06</td>\n",
       "    </tr>\n",
       "    <tr>\n",
       "      <th>Kids' Golf Clubs</th>\n",
       "      <td>9.879758e+04</td>\n",
       "    </tr>\n",
       "    <tr>\n",
       "      <th>Lacrosse</th>\n",
       "      <td>3.946479e+04</td>\n",
       "    </tr>\n",
       "    <tr>\n",
       "      <th>Men's Clothing</th>\n",
       "      <td>4.385680e+04</td>\n",
       "    </tr>\n",
       "    <tr>\n",
       "      <th>Men's Footwear</th>\n",
       "      <td>2.891758e+06</td>\n",
       "    </tr>\n",
       "    <tr>\n",
       "      <th>Men's Golf Clubs</th>\n",
       "      <td>4.703580e+04</td>\n",
       "    </tr>\n",
       "    <tr>\n",
       "      <th>Music</th>\n",
       "      <td>1.131221e+05</td>\n",
       "    </tr>\n",
       "    <tr>\n",
       "      <th>Pet Supplies</th>\n",
       "      <td>4.152480e+04</td>\n",
       "    </tr>\n",
       "    <tr>\n",
       "      <th>Shop By Sport</th>\n",
       "      <td>1.309522e+06</td>\n",
       "    </tr>\n",
       "    <tr>\n",
       "      <th>Soccer</th>\n",
       "      <td>2.647705e+04</td>\n",
       "    </tr>\n",
       "    <tr>\n",
       "      <th>Sporting Goods</th>\n",
       "      <td>1.170068e+05</td>\n",
       "    </tr>\n",
       "    <tr>\n",
       "      <th>Strength Training</th>\n",
       "      <td>5.489553e+04</td>\n",
       "    </tr>\n",
       "    <tr>\n",
       "      <th>Tennis &amp; Racquet</th>\n",
       "      <td>4.458509e+04</td>\n",
       "    </tr>\n",
       "    <tr>\n",
       "      <th>Toys</th>\n",
       "      <td>6.104660e+03</td>\n",
       "    </tr>\n",
       "    <tr>\n",
       "      <th>Trade-In</th>\n",
       "      <td>6.872178e+04</td>\n",
       "    </tr>\n",
       "    <tr>\n",
       "      <th>Video Games</th>\n",
       "      <td>3.331050e+04</td>\n",
       "    </tr>\n",
       "    <tr>\n",
       "      <th>Water Sports</th>\n",
       "      <td>3.113845e+06</td>\n",
       "    </tr>\n",
       "    <tr>\n",
       "      <th>Women's Apparel</th>\n",
       "      <td>3.147800e+06</td>\n",
       "    </tr>\n",
       "    <tr>\n",
       "      <th>Women's Clothing</th>\n",
       "      <td>1.402830e+05</td>\n",
       "    </tr>\n",
       "    <tr>\n",
       "      <th>Women's Golf Clubs</th>\n",
       "      <td>4.454597e+04</td>\n",
       "    </tr>\n",
       "  </tbody>\n",
       "</table>\n",
       "</div>"
      ],
      "text/plain": [
       "                             Sales\n",
       "Category Name                     \n",
       "Accessories           1.336715e+05\n",
       "As Seen on  TV!       2.059794e+04\n",
       "Baby                  1.222956e+04\n",
       "Baseball & Softball   9.405715e+04\n",
       "Basketball            2.709933e+04\n",
       "Books                 1.258740e+04\n",
       "Boxing & MMA          8.520541e+04\n",
       "CDs                   3.059590e+03\n",
       "Cameras               2.676077e+05\n",
       "Camping & Hiking      4.118426e+06\n",
       "Cardio Equipment      3.694843e+06\n",
       "Children's Clothing   2.328292e+05\n",
       "Cleats                4.431943e+06\n",
       "Computers             6.630000e+05\n",
       "Consumer Electronics  1.089913e+05\n",
       "Crafts                2.233563e+05\n",
       "DVDs                  7.939554e+04\n",
       "Electronics           3.710346e+05\n",
       "Fishing               6.929654e+06\n",
       "Fitness Accessories   3.560144e+04\n",
       "Garden                2.577687e+05\n",
       "Girls' Apparel        1.517062e+05\n",
       "Golf Apparel          3.496975e+04\n",
       "Golf Bags & Carts     1.036939e+04\n",
       "Golf Balls            7.709816e+04\n",
       "Golf Gloves           1.166954e+05\n",
       "Golf Shoes            1.079980e+05\n",
       "Health and Beauty     1.060805e+05\n",
       "Hockey                4.836073e+04\n",
       "Hunting & Shooting    5.684842e+04\n",
       "Indoor/Outdoor Games  2.888994e+06\n",
       "Kids' Golf Clubs      9.879758e+04\n",
       "Lacrosse              3.946479e+04\n",
       "Men's Clothing        4.385680e+04\n",
       "Men's Footwear        2.891758e+06\n",
       "Men's Golf Clubs      4.703580e+04\n",
       "Music                 1.131221e+05\n",
       "Pet Supplies          4.152480e+04\n",
       "Shop By Sport         1.309522e+06\n",
       "Soccer                2.647705e+04\n",
       "Sporting Goods        1.170068e+05\n",
       "Strength Training     5.489553e+04\n",
       "Tennis & Racquet      4.458509e+04\n",
       "Toys                  6.104660e+03\n",
       "Trade-In              6.872178e+04\n",
       "Video Games           3.331050e+04\n",
       "Water Sports          3.113845e+06\n",
       "Women's Apparel       3.147800e+06\n",
       "Women's Clothing      1.402830e+05\n",
       "Women's Golf Clubs    4.454597e+04"
      ]
     },
     "execution_count": 17,
     "metadata": {},
     "output_type": "execute_result"
    }
   ],
   "source": [
    "df[[\"Category Name\", \"Sales\"]].groupby(\"Category Name\").sum()"
   ]
  },
  {
   "cell_type": "markdown",
   "metadata": {},
   "source": [
    "# Delivery status "
   ]
  },
  {
   "cell_type": "code",
   "execution_count": 277,
   "metadata": {},
   "outputs": [
    {
     "data": {
      "image/png": "[encoded data removed]",
      "text/plain": [
       "<Figure size 864x504 with 1 Axes>"
      ]
     },
     "metadata": {
      "needs_background": "light"
     },
     "output_type": "display_data"
    }
   ],
   "source": [
    "deliveries_status = df_orders[\"Delivery Status\"].value_counts()\n",
    "index_order = [\n",
    "    \"Advance shipping\", \"Shipping on time\",\n",
    "    \"Late delivery\", \"Shipping canceled\"\n",
    "]\n",
    "deliveries_status = deliveries_status.reindex(index_order)\n",
    "ind = range(len(deliveries_status))\n",
    "barlist = plt.bar(ind, deliveries_status.values)\n",
    "plt.title(\"Orders Delivery Status\")\n",
    "plt.ylabel(\"Total Number of Orders\")\n",
    "plt.xlabel(\"Delivery Status\")\n",
    "plt.xticks(ind, deliveries_status.index)\n",
    "barlist[0].set_color(\"C2\")\n",
    "barlist[1].set_color(\"C0\")\n",
    "barlist[2].set_color(\"C3\")\n",
    "barlist[3].set_color(\"C7\")\n",
    "\n",
    "# percentages\n",
    "ax = plt.gca()\n",
    "# Add this loop to add the annotations\n",
    "for p in ax.patches:\n",
    "    width, height = p.get_width(), p.get_height()\n",
    "    x, y = p.get_xy() \n",
    "    ax.annotate(\n",
    "        '{:.2%}'.format(height/nbr_orders), \n",
    "        (p.get_x()+.5*width, p.get_y() + height + 125), \n",
    "        ha='center',\n",
    "        fontsize=14\n",
    "    );"
   ]
  },
  {
   "cell_type": "markdown",
   "metadata": {},
   "source": [
    "# Predicting the Order Delivery Status "
   ]
  },
  {
   "cell_type": "markdown",
   "metadata": {},
   "source": [
    "Here I select the features to be used in the model based on gut feeling. We begin with some easy features first as a baseline model. We assume that the country and the shipping mode will be enough to distiguish between our three classes: `Advance shipping`, `Shipping on time`, `Late delivery`, and `Shipping canceled`."
   ]
  },
  {
   "cell_type": "code",
   "execution_count": 475,
   "metadata": {},
   "outputs": [
    {
     "data": {
      "text/html": [
       "<div>\n",
       "<style scoped>\n",
       "    .dataframe tbody tr th:only-of-type {\n",
       "        vertical-align: middle;\n",
       "    }\n",
       "\n",
       "    .dataframe tbody tr th {\n",
       "        vertical-align: top;\n",
       "    }\n",
       "\n",
       "    .dataframe thead th {\n",
       "        text-align: right;\n",
       "    }\n",
       "</style>\n",
       "<table border=\"1\" class=\"dataframe\">\n",
       "  <thead>\n",
       "    <tr style=\"text-align: right;\">\n",
       "      <th></th>\n",
       "      <th>Order Id</th>\n",
       "      <th>Customer Country</th>\n",
       "      <th>Shipping Mode</th>\n",
       "      <th>Days for shipping (real)</th>\n",
       "      <th>Days for shipment (scheduled)</th>\n",
       "      <th>order date (DateOrders)</th>\n",
       "      <th>shipping date (DateOrders)</th>\n",
       "      <th>Delivery Status</th>\n",
       "      <th>Order Country</th>\n",
       "      <th>Customer Zipcode</th>\n",
       "      <th>Order Item Quantity</th>\n",
       "      <th>Product Price</th>\n",
       "    </tr>\n",
       "    <tr>\n",
       "      <th>Order Id</th>\n",
       "      <th></th>\n",
       "      <th></th>\n",
       "      <th></th>\n",
       "      <th></th>\n",
       "      <th></th>\n",
       "      <th></th>\n",
       "      <th></th>\n",
       "      <th></th>\n",
       "      <th></th>\n",
       "      <th></th>\n",
       "      <th></th>\n",
       "      <th></th>\n",
       "    </tr>\n",
       "  </thead>\n",
       "  <tbody>\n",
       "    <tr>\n",
       "      <th>1</th>\n",
       "      <td>1</td>\n",
       "      <td>EE. UU.</td>\n",
       "      <td>Standard Class</td>\n",
       "      <td>2</td>\n",
       "      <td>4</td>\n",
       "      <td>2015-01-01 00:00:00</td>\n",
       "      <td>2015-01-03 00:00:00</td>\n",
       "      <td>Advance shipping</td>\n",
       "      <td>México</td>\n",
       "      <td>28601.0</td>\n",
       "      <td>1</td>\n",
       "      <td>299.980011</td>\n",
       "    </tr>\n",
       "    <tr>\n",
       "      <th>2</th>\n",
       "      <td>2</td>\n",
       "      <td>EE. UU.</td>\n",
       "      <td>Standard Class</td>\n",
       "      <td>3</td>\n",
       "      <td>4</td>\n",
       "      <td>2015-01-01 00:21:00</td>\n",
       "      <td>2015-01-04 00:21:00</td>\n",
       "      <td>Advance shipping</td>\n",
       "      <td>Colombia</td>\n",
       "      <td>60625.0</td>\n",
       "      <td>7</td>\n",
       "      <td>379.980011</td>\n",
       "    </tr>\n",
       "    <tr>\n",
       "      <th>4</th>\n",
       "      <td>4</td>\n",
       "      <td>EE. UU.</td>\n",
       "      <td>Standard Class</td>\n",
       "      <td>5</td>\n",
       "      <td>4</td>\n",
       "      <td>2015-01-01 01:03:00</td>\n",
       "      <td>2015-01-06 01:03:00</td>\n",
       "      <td>Late delivery</td>\n",
       "      <td>Colombia</td>\n",
       "      <td>78240.0</td>\n",
       "      <td>14</td>\n",
       "      <td>184.960001</td>\n",
       "    </tr>\n",
       "    <tr>\n",
       "      <th>5</th>\n",
       "      <td>5</td>\n",
       "      <td>Puerto Rico</td>\n",
       "      <td>Standard Class</td>\n",
       "      <td>6</td>\n",
       "      <td>4</td>\n",
       "      <td>2015-01-01 01:24:00</td>\n",
       "      <td>2015-01-07 01:24:00</td>\n",
       "      <td>Late delivery</td>\n",
       "      <td>Colombia</td>\n",
       "      <td>725.0</td>\n",
       "      <td>10</td>\n",
       "      <td>839.920029</td>\n",
       "    </tr>\n",
       "    <tr>\n",
       "      <th>7</th>\n",
       "      <td>7</td>\n",
       "      <td>EE. UU.</td>\n",
       "      <td>Second Class</td>\n",
       "      <td>3</td>\n",
       "      <td>2</td>\n",
       "      <td>2015-01-01 02:06:00</td>\n",
       "      <td>2015-01-04 02:06:00</td>\n",
       "      <td>Late delivery</td>\n",
       "      <td>Brasil</td>\n",
       "      <td>33161.0</td>\n",
       "      <td>7</td>\n",
       "      <td>515.960016</td>\n",
       "    </tr>\n",
       "  </tbody>\n",
       "</table>\n",
       "</div>"
      ],
      "text/plain": [
       "          Order Id Customer Country   Shipping Mode  Days for shipping (real)  \\\n",
       "Order Id                                                                        \n",
       "1                1          EE. UU.  Standard Class                         2   \n",
       "2                2          EE. UU.  Standard Class                         3   \n",
       "4                4          EE. UU.  Standard Class                         5   \n",
       "5                5      Puerto Rico  Standard Class                         6   \n",
       "7                7          EE. UU.    Second Class                         3   \n",
       "\n",
       "          Days for shipment (scheduled) order date (DateOrders)  \\\n",
       "Order Id                                                          \n",
       "1                                     4     2015-01-01 00:00:00   \n",
       "2                                     4     2015-01-01 00:21:00   \n",
       "4                                     4     2015-01-01 01:03:00   \n",
       "5                                     4     2015-01-01 01:24:00   \n",
       "7                                     2     2015-01-01 02:06:00   \n",
       "\n",
       "         shipping date (DateOrders)   Delivery Status Order Country  \\\n",
       "Order Id                                                              \n",
       "1               2015-01-03 00:00:00  Advance shipping        México   \n",
       "2               2015-01-04 00:21:00  Advance shipping      Colombia   \n",
       "4               2015-01-06 01:03:00     Late delivery      Colombia   \n",
       "5               2015-01-07 01:24:00     Late delivery      Colombia   \n",
       "7               2015-01-04 02:06:00     Late delivery        Brasil   \n",
       "\n",
       "          Customer Zipcode  Order Item Quantity  Product Price  \n",
       "Order Id                                                        \n",
       "1                  28601.0                    1     299.980011  \n",
       "2                  60625.0                    7     379.980011  \n",
       "4                  78240.0                   14     184.960001  \n",
       "5                    725.0                   10     839.920029  \n",
       "7                  33161.0                    7     515.960016  "
      ]
     },
     "execution_count": 475,
     "metadata": {},
     "output_type": "execute_result"
    }
   ],
   "source": [
    "df_orders.head()"
   ]
  },
  {
   "cell_type": "code",
   "execution_count": 534,
   "metadata": {},
   "outputs": [],
   "source": [
    "# baseline model features\n",
    "features = [\n",
    "    {\"name\": \"Order Country\", \"one_hot_encoding\": True},\n",
    "    {\"name\": \"Shipping Mode\", \"one_hot_encoding\": True},\n",
    "    {\"name\": \"Customer Zipcode\", \"one_hot_encoding\": True},\n",
    "    {\"name\": \"Order City\", \"one_hot_encoding\": True}\n",
    "]\n",
    "extracted_features = [e[\"name\"] for e in features]\n",
    "\n",
    "# split features and target\n",
    "X = df_orders[extracted_features]\n",
    "y = df_orders[\"Delivery Status\"]\n",
    "\n",
    "# one-hot encode categorical features\n",
    "enc = OneHotEncoder(handle_unknown='ignore')\n",
    "enc.fit(X)\n",
    "X_enc = enc.transform(X).toarray()\n",
    "\n",
    "# concatenate numerical variables\n",
    "numericals = np.array(\n",
    "    df_orders[[\"Days for shipment (scheduled)\", \"Order Item Quantity\", \"Product Price\", \"Sales per customer\"]]\n",
    ")\n",
    "X_enc = np.concatenate((X_enc, numericals), axis=1)"
   ]
  },
  {
   "cell_type": "code",
   "execution_count": 535,
   "metadata": {},
   "outputs": [],
   "source": [
    "# split the data into train and test\n",
    "X_train, X_test, y_train, y_test = train_test_split(X_enc, y, test_size=0.3, random_state=42)\n",
    "\n",
    "# fit ML classifier to predict the \"Delivery Status\" via 5-fold cross-validation\n",
    "clf = RandomForestClassifier(n_estimators=20, max_depth=20, random_state=42)\n",
    "cv_results = cross_validate(clf, X_train, y_train, cv=5, return_train_score=True)"
   ]
  },
  {
   "cell_type": "code",
   "execution_count": 536,
   "metadata": {},
   "outputs": [
    {
     "data": {
      "text/plain": [
       "{'fit_time': array([33.50368595, 42.54220915, 37.25908303, 32.73883867, 41.19069195]),\n",
       " 'score_time': array([0.62324905, 0.46437287, 0.57128572, 0.45041728, 0.49849319]),\n",
       " 'test_score': array([0.54686651, 0.54725179, 0.5468767 , 0.54699554, 0.54829947]),\n",
       " 'train_score': array([0.55191895, 0.54818295, 0.54789647, 0.55033812, 0.55256511])}"
      ]
     },
     "execution_count": 536,
     "metadata": {},
     "output_type": "execute_result"
    }
   ],
   "source": [
    "cv_results"
   ]
  },
  {
   "cell_type": "code",
   "execution_count": 537,
   "metadata": {},
   "outputs": [
    {
     "name": "stdout",
     "output_type": "stream",
     "text": [
      "Train accuracy is: 0.5481270641404484\n",
      "Test accuracy is: 0.551128010139417\n"
     ]
    }
   ],
   "source": [
    "# refit the model in the whole training data\n",
    "clf = RandomForestClassifier(n_estimators=20, max_depth=20, random_state=42)\n",
    "clf.fit(X_train, y_train)\n",
    "print(\"Train accuracy is:\", clf.score(X_train, y_train))\n",
    "print(\"Test accuracy is:\", clf.score(X_test, y_test))"
   ]
  }
 ],
 "metadata": {
  "kernelspec": {
   "display_name": "Python 3",
   "language": "python",
   "name": "python3"
  },
  "language_info": {
   "codemirror_mode": {
    "name": "ipython",
    "version": 3
   },
   "file_extension": ".py",
   "mimetype": "text/x-python",
   "name": "python",
   "nbconvert_exporter": "python",
   "pygments_lexer": "ipython3",
   "version": "3.7.4"
  },
  "toc": {
   "base_numbering": 1,
   "nav_menu": {},
   "number_sections": true,
   "sideBar": true,
   "skip_h1_title": false,
   "title_cell": "Table of Contents",
   "title_sidebar": "Contents",
   "toc_cell": false,
   "toc_position": {},
   "toc_section_display": true,
   "toc_window_display": true
  }
 },
 "nbformat": 4,
 "nbformat_minor": 2
}
